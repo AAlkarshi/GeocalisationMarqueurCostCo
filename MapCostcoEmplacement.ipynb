{
 "cells": [
  {
   "cell_type": "code",
   "execution_count": null,
   "metadata": {},
   "outputs": [
    {
     "name": "stderr",
     "output_type": "stream",
     "text": [
      "Status code 403 from https://nominatim.openstreetmap.org/search: ERROR - 403 Client Error: Forbidden for url: https://nominatim.openstreetmap.org/search?q=1205+N.+Memorial+Parkway%2C+Huntsville%2C+Alabama+35801-5930&format=jsonv2&addressdetails=1&limit=1\n"
     ]
    },
    {
     "name": "stdout",
     "output_type": "stream",
     "text": [
      "Colonnes disponibles :  Index(['Warehouse Number', 'Address', 'City', 'State', 'Zip Code'], dtype='object')\n",
      "Adresse non trouvée : 1205 N. Memorial Parkway, Huntsville, Alabama 35801-5930\n"
     ]
    },
    {
     "name": "stderr",
     "output_type": "stream",
     "text": [
      "Status code 403 from https://nominatim.openstreetmap.org/search: ERROR - 403 Client Error: Forbidden for url: https://nominatim.openstreetmap.org/search?q=3650+Galleria+Circle%2C+Hoover%2C+Alabama+35244-2346&format=jsonv2&addressdetails=1&limit=1\n"
     ]
    },
    {
     "name": "stdout",
     "output_type": "stream",
     "text": [
      "Adresse non trouvée : 3650 Galleria Circle, Hoover, Alabama 35244-2346\n"
     ]
    },
    {
     "name": "stderr",
     "output_type": "stream",
     "text": [
      "Status code 403 from https://nominatim.openstreetmap.org/search: ERROR - 403 Client Error: Forbidden for url: https://nominatim.openstreetmap.org/search?q=8251+Eastchase+Parkway%2C+Montgomery%2C+Alabama+36117&format=jsonv2&addressdetails=1&limit=1\n"
     ]
    },
    {
     "name": "stdout",
     "output_type": "stream",
     "text": [
      "Adresse non trouvée : 8251 Eastchase Parkway, Montgomery, Alabama 36117\n"
     ]
    },
    {
     "name": "stderr",
     "output_type": "stream",
     "text": [
      "Status code 403 from https://nominatim.openstreetmap.org/search: ERROR - 403 Client Error: Forbidden for url: https://nominatim.openstreetmap.org/search?q=5225+Commercial+Boulevard%2C+Juneau%2C+Alaska+99801-7210&format=jsonv2&addressdetails=1&limit=1\n"
     ]
    },
    {
     "name": "stdout",
     "output_type": "stream",
     "text": [
      "Adresse non trouvée : 5225 Commercial Boulevard, Juneau, Alaska 99801-7210\n"
     ]
    },
    {
     "name": "stderr",
     "output_type": "stream",
     "text": [
      "Status code 403 from https://nominatim.openstreetmap.org/search: ERROR - 403 Client Error: Forbidden for url: https://nominatim.openstreetmap.org/search?q=330+West+Dimond+Blvd%2C+Anchorage%2C+Alaska+99515-1950&format=jsonv2&addressdetails=1&limit=1\n"
     ]
    },
    {
     "name": "stdout",
     "output_type": "stream",
     "text": [
      "Adresse non trouvée : 330 West Dimond Blvd, Anchorage, Alaska 99515-1950\n"
     ]
    },
    {
     "name": "stderr",
     "output_type": "stream",
     "text": [
      "Status code 403 from https://nominatim.openstreetmap.org/search: ERROR - 403 Client Error: Forbidden for url: https://nominatim.openstreetmap.org/search?q=4125+DeBarr+Road%2C+Anchorage%2C+Alaska+99508-3115&format=jsonv2&addressdetails=1&limit=1\n"
     ]
    },
    {
     "name": "stdout",
     "output_type": "stream",
     "text": [
      "Adresse non trouvée : 4125 DeBarr Road, Anchorage, Alaska 99508-3115\n"
     ]
    },
    {
     "name": "stderr",
     "output_type": "stream",
     "text": [
      "Status code 403 from https://nominatim.openstreetmap.org/search: ERROR - 403 Client Error: Forbidden for url: https://nominatim.openstreetmap.org/search?q=3911+Highway+69%2C+Prescott%2C+Arizona+86301-6717&format=jsonv2&addressdetails=1&limit=1\n"
     ]
    },
    {
     "name": "stdout",
     "output_type": "stream",
     "text": [
      "Adresse non trouvée : 3911 Highway 69, Prescott, Arizona 86301-6717\n"
     ]
    },
    {
     "name": "stderr",
     "output_type": "stream",
     "text": [
      "Status code 403 from https://nominatim.openstreetmap.org/search: ERROR - 403 Client Error: Forbidden for url: https://nominatim.openstreetmap.org/search?q=3901+West+Costco+Drive%2C+Tucson%2C+Arizona+85741-2864&format=jsonv2&addressdetails=1&limit=1\n"
     ]
    },
    {
     "name": "stdout",
     "output_type": "stream",
     "text": [
      "Adresse non trouvée : 3901 West Costco Drive, Tucson, Arizona 85741-2864\n"
     ]
    }
   ],
   "source": [
    "import pandas as pd\n",
    "import folium\n",
    "import geocoder\n",
    "import time\n",
    "\n",
    "lectureexcel = pd.read_csv(\"costcos-limited.csv\", sep=\",\", skipinitialspace=True)\n",
    "print(\"Colonnes disponibles : \", lectureexcel.columns)\n",
    "\n",
    "# Créer une carte des États-Unis\n",
    "m = folium.Map(location=[37.0902, -95.7129], zoom_start=4)\n",
    "\n",
    "# Ajouter un marqueur pour chaque magasin Costco\n",
    "for index, row in lectureexcel.iterrows():\n",
    "    try:\n",
    "        # Construire l'adresse à partir des colonnes du DataFrame\n",
    "        address = f\"{row['Address']}, {row['City']}, {row['State']} {row['Zip Code']}\"\n",
    "        \n",
    "        # Géocoder l'adresse\n",
    "        location = geocoder.osm(address)\n",
    "        \n",
    "        #CONDITION  Vérifier si la localisation a été trouvée\n",
    "        if location.ok:  \n",
    "            lat = location.lat\n",
    "            lon = location.lng\n",
    "            store_name = row['Warehouse Number'] if 'Warehouse Number' in row else \"Costco\"\n",
    "\n",
    "            # Ajouter un marqueur rouge sur la carte\n",
    "            folium.Marker(\n",
    "                [lat, lon],\n",
    "                popup=store_name,\n",
    "                icon=folium.Icon(color='red') \n",
    "            ).add_to(m)\n",
    "        else:\n",
    "            print(f\"Adresse non trouvée : {address}\")\n",
    "    except Exception as e:\n",
    "        print(f\"Erreur {index}: {e}\")\n",
    "\n",
    "#Sauvegarde fichier html\n",
    "m.save('costco_mapblack.html')\n",
    "print(\"La carte a été sauvegardée dans 'costco_map.html'\")\n"
   ]
  }
 ],
 "metadata": {
  "kernelspec": {
   "display_name": "Python 3",
   "language": "python",
   "name": "python3"
  },
  "language_info": {
   "codemirror_mode": {
    "name": "ipython",
    "version": 3
   },
   "file_extension": ".py",
   "mimetype": "text/x-python",
   "name": "python",
   "nbconvert_exporter": "python",
   "pygments_lexer": "ipython3",
   "version": "3.12.0"
  }
 },
 "nbformat": 4,
 "nbformat_minor": 2
}
